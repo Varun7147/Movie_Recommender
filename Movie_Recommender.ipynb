{
  "nbformat": 4,
  "nbformat_minor": 0,
  "metadata": {
    "colab": {
      "provenance": []
    },
    "kernelspec": {
      "name": "python3",
      "display_name": "Python 3"
    },
    "language_info": {
      "name": "python"
    }
  },
  "cells": [
    {
      "cell_type": "code",
      "execution_count": 2,
      "metadata": {
        "id": "dtY1iMfbYz78",
        "colab": {
          "base_uri": "https://localhost:8080/"
        },
        "outputId": "d0ef1d9b-eff9-4e2f-92b0-b09093c38e24"
      },
      "outputs": [
        {
          "output_type": "stream",
          "name": "stderr",
          "text": [
            "<ipython-input-2-68077c23bf71>:71: SettingWithCopyWarning: \n",
            "A value is trying to be set on a copy of a slice from a DataFrame.\n",
            "Try using .loc[row_indexer,col_indexer] = value instead\n",
            "\n",
            "See the caveats in the documentation: https://pandas.pydata.org/pandas-docs/stable/user_guide/indexing.html#returning-a-view-versus-a-copy\n",
            "  new_df['tags'] = new_df['tags'].apply(lambda x:\" \".join(x))\n",
            "<ipython-input-2-68077c23bf71>:79: SettingWithCopyWarning: \n",
            "A value is trying to be set on a copy of a slice from a DataFrame.\n",
            "Try using .loc[row_indexer,col_indexer] = value instead\n",
            "\n",
            "See the caveats in the documentation: https://pandas.pydata.org/pandas-docs/stable/user_guide/indexing.html#returning-a-view-versus-a-copy\n",
            "  new_df['tags'] = new_df['tags'].apply(stem)\n",
            "<ipython-input-2-68077c23bf71>:80: SettingWithCopyWarning: \n",
            "A value is trying to be set on a copy of a slice from a DataFrame.\n",
            "Try using .loc[row_indexer,col_indexer] = value instead\n",
            "\n",
            "See the caveats in the documentation: https://pandas.pydata.org/pandas-docs/stable/user_guide/indexing.html#returning-a-view-versus-a-copy\n",
            "  new_df['tags'] = new_df['tags'].apply(lambda x:x.lower())\n"
          ]
        }
      ],
      "source": [
        "import numpy as np\n",
        "import pandas as pd\n",
        "import nltk\n",
        "from nltk.stem.porter import PorterStemmer\n",
        "ps = PorterStemmer()\n",
        "from sklearn.feature_extraction.text import CountVectorizer\n",
        "from sklearn.metrics.pairwise import cosine_similarity\n",
        "\n",
        "cv = CountVectorizer(max_features=5000,stop_words='english')\n",
        "\n",
        "movies = pd.read_csv('tmdb_5000_movies.csv')\n",
        "credits = pd.read_csv('tmdb_5000_credits.csv')\n",
        "\n",
        "movies = movies.merge(credits, on='title')\n",
        "\n",
        "# genres\n",
        "# id\n",
        "# keywords\n",
        "# title\n",
        "# overview\n",
        "# cast\n",
        "# crew\n",
        "\n",
        "movies = movies[['id','title','overview','genres','keywords','cast','crew']]\n",
        "\n",
        "movies.dropna(inplace=True)\n",
        "\n",
        "def convert(obj):\n",
        "  L = []\n",
        "  for i in ast.literal_eval(obj):\n",
        "    L.append(i['name'])\n",
        "  return L\n",
        "\n",
        "import ast\n",
        "# ast.literal_eval([{\"id\": 28, \"name\": \"Action\"}, {\"id\": 12, \"name\": \"Adventure\"}, {\"id\": 14, \"name\": \"Fantasy\"}, {\"id\": 878, \"name\": \"Science Fiction\"}])\n",
        "\n",
        "movies['genres'] = movies['genres'].apply(convert)\n",
        "movies['keywords'] = movies['keywords'].apply(convert)\n",
        "\n",
        "def convert3(obj):\n",
        "  L = []\n",
        "  count = 0\n",
        "  for i in ast.literal_eval(obj):\n",
        "    if count != 3:\n",
        "      L.append(i['name'])\n",
        "      count+=1\n",
        "    else:\n",
        "      break\n",
        "  return L\n",
        "\n",
        "movies['cast'] = movies['cast'].apply(convert3)\n",
        "\n",
        "def convert4(obj):\n",
        "  L = []\n",
        "  for i in ast.literal_eval(obj):\n",
        "    if i['job'] == 'Director':\n",
        "      L.append(i['name'])\n",
        "      break\n",
        "  return L\n",
        "\n",
        "movies['crew'] = movies['crew'].apply(convert4)\n",
        "\n",
        "movies['overview'] = movies['overview'].apply(lambda x:x.split())\n",
        "movies['genres'] = movies['genres'].apply(lambda x:[i.replace(\" \",\"\") for i in x])\n",
        "movies['keywords'] = movies['keywords'].apply(lambda x:[i.replace(\" \",\"\") for i in x])\n",
        "movies['cast'] = movies['cast'].apply(lambda x:[i.replace(\" \",\"\") for i in x])\n",
        "movies['crew'] = movies['crew'].apply(lambda x:[i.replace(\" \",\"\") for i in x])\n",
        "\n",
        "movies['tags'] = movies['overview'] + movies['genres'] + movies['keywords'] + movies['cast'] + movies['crew']\n",
        "new_df = movies[['id','title','tags']]\n",
        "new_df['tags'] = new_df['tags'].apply(lambda x:\" \".join(x))\n",
        "\n",
        "def stem(text):\n",
        "  y = []\n",
        "  for i in text.split():\n",
        "    y.append(ps.stem(i))\n",
        "  return \" \".join(y)\n",
        "\n",
        "new_df['tags'] = new_df['tags'].apply(stem)\n",
        "new_df['tags'] = new_df['tags'].apply(lambda x:x.lower())\n",
        "\n",
        "vectors = cv.fit_transform(new_df['tags']).toarray()\n",
        "\n",
        "similarity = cosine_similarity(vectors)\n",
        "\n",
        "def recommend(movie):\n",
        "  movie_index = new_df[new_df['title'] == movie].index[0]\n",
        "  distances = similarity[movie_index]\n",
        "  movies_list = sorted(list(enumerate(distances)),reverse=True,key=lambda x:x[1])[1:11]\n",
        "  list1 = []\n",
        "  for i in movies_list:\n",
        "    list1.append(new_df.iloc[i[0]].id)\n",
        "    print(new_df.iloc[i[0]].title)\n",
        "  return list1\n"
      ]
    },
    {
      "cell_type": "markdown",
      "source": [],
      "metadata": {
        "id": "2dAa5leyuYH6"
      }
    },
    {
      "cell_type": "code",
      "source": [
        "movie_list = recommend(\"Spider-Man 3\")"
      ],
      "metadata": {
        "colab": {
          "base_uri": "https://localhost:8080/"
        },
        "id": "iHj3la8cp3H3",
        "outputId": "154a73b4-8cc8-4be0-f947-5af98fb7eaed"
      },
      "execution_count": 3,
      "outputs": [
        {
          "output_type": "stream",
          "name": "stdout",
          "text": [
            "Spider-Man 2\n",
            "Spider-Man\n",
            "The Amazing Spider-Man 2\n",
            "The Amazing Spider-Man\n",
            "Arachnophobia\n",
            "Superman Returns\n",
            "Deadpool\n",
            "Superman\n",
            "Cirque du Freak: The Vampire's Assistant\n",
            "Iron Man 2\n"
          ]
        }
      ]
    },
    {
      "cell_type": "code",
      "source": [
        "new_df['title'][0:30]"
      ],
      "metadata": {
        "colab": {
          "base_uri": "https://localhost:8080/"
        },
        "id": "-IMD2qXQnqmv",
        "outputId": "0b5f1c46-96e8-4cb5-e034-05643689b9ca"
      },
      "execution_count": 5,
      "outputs": [
        {
          "output_type": "execute_result",
          "data": {
            "text/plain": [
              "0                                          Avatar\n",
              "1        Pirates of the Caribbean: At World's End\n",
              "2                                         Spectre\n",
              "3                           The Dark Knight Rises\n",
              "4                                     John Carter\n",
              "5                                    Spider-Man 3\n",
              "6                                         Tangled\n",
              "7                         Avengers: Age of Ultron\n",
              "8          Harry Potter and the Half-Blood Prince\n",
              "9              Batman v Superman: Dawn of Justice\n",
              "10                               Superman Returns\n",
              "11                              Quantum of Solace\n",
              "12     Pirates of the Caribbean: Dead Man's Chest\n",
              "13                                The Lone Ranger\n",
              "14                                   Man of Steel\n",
              "15       The Chronicles of Narnia: Prince Caspian\n",
              "16                                   The Avengers\n",
              "17    Pirates of the Caribbean: On Stranger Tides\n",
              "18                                 Men in Black 3\n",
              "19      The Hobbit: The Battle of the Five Armies\n",
              "20                         The Amazing Spider-Man\n",
              "21                                     Robin Hood\n",
              "22            The Hobbit: The Desolation of Smaug\n",
              "23                             The Golden Compass\n",
              "24                                      King Kong\n",
              "25                                        Titanic\n",
              "26                     Captain America: Civil War\n",
              "27                                     Battleship\n",
              "28                                 Jurassic World\n",
              "29                                        Skyfall\n",
              "Name: title, dtype: object"
            ]
          },
          "metadata": {},
          "execution_count": 5
        }
      ]
    },
    {
      "cell_type": "markdown",
      "source": [],
      "metadata": {
        "id": "hhJhN9cmeVss"
      }
    }
  ]
}